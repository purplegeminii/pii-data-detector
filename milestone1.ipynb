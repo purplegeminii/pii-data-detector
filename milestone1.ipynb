{
 "cells": [
  {
   "cell_type": "code",
   "execution_count": null,
   "id": "initial_id",
   "metadata": {
    "collapsed": true
   },
   "outputs": [],
   "source": [
    "import pandas as pd\n",
    "import torch"
   ]
  },
  {
   "cell_type": "code",
   "outputs": [],
   "source": [
    "sample = pd.read_csv(\"sample_submission.csv\")\n",
    "sample_df = pd.DataFrame(sample)\n",
    "sample_df.head()"
   ],
   "metadata": {
    "collapsed": false
   },
   "id": "c8da7e59bb7fc846",
   "execution_count": null
  },
  {
   "cell_type": "code",
   "outputs": [],
   "source": [
    "train = pd.read_json(\"train.json\")\n",
    "train_df = pd.DataFrame(train)\n",
    "train_df.head()"
   ],
   "metadata": {
    "collapsed": false
   },
   "id": "2a2dff7caf894cf8",
   "execution_count": null
  },
  {
   "cell_type": "code",
   "outputs": [],
   "source": [
    "test = pd.read_json(\"test.json\")\n",
    "test_df = pd.DataFrame(test)\n",
    "test_df.head()"
   ],
   "metadata": {
    "collapsed": false
   },
   "id": "105fdcead10cec33",
   "execution_count": null
  },
  {
   "cell_type": "code",
   "outputs": [],
   "source": [],
   "metadata": {
    "collapsed": false
   },
   "id": "d4cb0555badacf61"
  }
 ],
 "metadata": {
  "kernelspec": {
   "display_name": "Python 3",
   "language": "python",
   "name": "python3"
  },
  "language_info": {
   "codemirror_mode": {
    "name": "ipython",
    "version": 2
   },
   "file_extension": ".py",
   "mimetype": "text/x-python",
   "name": "python",
   "nbconvert_exporter": "python",
   "pygments_lexer": "ipython2",
   "version": "2.7.6"
  }
 },
 "nbformat": 4,
 "nbformat_minor": 5
}
