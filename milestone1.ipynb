{
 "cells": [
  {
   "cell_type": "code",
   "execution_count": 151,
   "id": "initial_id",
   "metadata": {
    "ExecuteTime": {
     "end_time": "2024-03-19T00:52:21.054795500Z",
     "start_time": "2024-03-19T00:52:20.958792700Z"
    }
   },
   "outputs": [],
   "source": [
    "import pandas as pd\n",
    "import numpy as np\n",
    "import torch"
   ]
  },
  {
   "cell_type": "code",
   "execution_count": 152,
   "id": "c8da7e59bb7fc846",
   "metadata": {
    "collapsed": false,
    "ExecuteTime": {
     "end_time": "2024-03-19T00:52:21.128792200Z",
     "start_time": "2024-03-19T00:52:21.061792900Z"
    }
   },
   "outputs": [
    {
     "data": {
      "text/plain": "   row_id  document  token           label\n0       0         7      9  B-NAME_STUDENT\n1       1         7     10  I-NAME_STUDENT\n2       2         7    482  B-NAME_STUDENT\n3       3         7    483  I-NAME_STUDENT\n4       4         7    741  B-NAME_STUDENT",
      "text/html": "<div>\n<style scoped>\n    .dataframe tbody tr th:only-of-type {\n        vertical-align: middle;\n    }\n\n    .dataframe tbody tr th {\n        vertical-align: top;\n    }\n\n    .dataframe thead th {\n        text-align: right;\n    }\n</style>\n<table border=\"1\" class=\"dataframe\">\n  <thead>\n    <tr style=\"text-align: right;\">\n      <th></th>\n      <th>row_id</th>\n      <th>document</th>\n      <th>token</th>\n      <th>label</th>\n    </tr>\n  </thead>\n  <tbody>\n    <tr>\n      <th>0</th>\n      <td>0</td>\n      <td>7</td>\n      <td>9</td>\n      <td>B-NAME_STUDENT</td>\n    </tr>\n    <tr>\n      <th>1</th>\n      <td>1</td>\n      <td>7</td>\n      <td>10</td>\n      <td>I-NAME_STUDENT</td>\n    </tr>\n    <tr>\n      <th>2</th>\n      <td>2</td>\n      <td>7</td>\n      <td>482</td>\n      <td>B-NAME_STUDENT</td>\n    </tr>\n    <tr>\n      <th>3</th>\n      <td>3</td>\n      <td>7</td>\n      <td>483</td>\n      <td>I-NAME_STUDENT</td>\n    </tr>\n    <tr>\n      <th>4</th>\n      <td>4</td>\n      <td>7</td>\n      <td>741</td>\n      <td>B-NAME_STUDENT</td>\n    </tr>\n  </tbody>\n</table>\n</div>"
     },
     "execution_count": 152,
     "metadata": {},
     "output_type": "execute_result"
    }
   ],
   "source": [
    "sample = pd.read_csv(\"sample_submission.csv\")\n",
    "sample_df = pd.DataFrame(sample)\n",
    "sample_df.head()"
   ]
  },
  {
   "cell_type": "code",
   "execution_count": 153,
   "id": "2a2dff7caf894cf8",
   "metadata": {
    "collapsed": false,
    "ExecuteTime": {
     "end_time": "2024-03-19T00:52:29.048213900Z",
     "start_time": "2024-03-19T00:52:21.083791800Z"
    }
   },
   "outputs": [
    {
     "data": {
      "text/plain": "   document                                          full_text  \\\n0         7  Design Thinking for innovation reflexion-Avril...   \n1        10  Diego Estrada\\n\\nDesign Thinking Assignment\\n\\...   \n2        16  Reporting process\\n\\nby Gilberto Gamboa\\n\\nCha...   \n3        20  Design Thinking for Innovation\\n\\nSindy Samaca...   \n4        56  Assignment:  Visualization Reflection  Submitt...   \n\n                                              tokens  \\\n0  [Design, Thinking, for, innovation, reflexion,...   \n1  [Diego, Estrada, \\n\\n, Design, Thinking, Assig...   \n2  [Reporting, process, \\n\\n, by, Gilberto, Gambo...   \n3  [Design, Thinking, for, Innovation, \\n\\n, Sind...   \n4  [Assignment, :,   , Visualization,  , Reflecti...   \n\n                                 trailing_whitespace  \\\n0  [True, True, True, True, False, False, True, F...   \n1  [True, False, False, True, True, False, False,...   \n2  [True, False, False, True, True, False, False,...   \n3  [True, True, True, False, False, True, False, ...   \n4  [False, False, False, False, False, False, Fal...   \n\n                                              labels  \n0  [O, O, O, O, O, O, O, O, O, B-NAME_STUDENT, I-...  \n1  [B-NAME_STUDENT, I-NAME_STUDENT, O, O, O, O, O...  \n2  [O, O, O, O, B-NAME_STUDENT, I-NAME_STUDENT, O...  \n3  [O, O, O, O, O, B-NAME_STUDENT, I-NAME_STUDENT...  \n4  [O, O, O, O, O, O, O, O, O, O, O, O, B-NAME_ST...  ",
      "text/html": "<div>\n<style scoped>\n    .dataframe tbody tr th:only-of-type {\n        vertical-align: middle;\n    }\n\n    .dataframe tbody tr th {\n        vertical-align: top;\n    }\n\n    .dataframe thead th {\n        text-align: right;\n    }\n</style>\n<table border=\"1\" class=\"dataframe\">\n  <thead>\n    <tr style=\"text-align: right;\">\n      <th></th>\n      <th>document</th>\n      <th>full_text</th>\n      <th>tokens</th>\n      <th>trailing_whitespace</th>\n      <th>labels</th>\n    </tr>\n  </thead>\n  <tbody>\n    <tr>\n      <th>0</th>\n      <td>7</td>\n      <td>Design Thinking for innovation reflexion-Avril...</td>\n      <td>[Design, Thinking, for, innovation, reflexion,...</td>\n      <td>[True, True, True, True, False, False, True, F...</td>\n      <td>[O, O, O, O, O, O, O, O, O, B-NAME_STUDENT, I-...</td>\n    </tr>\n    <tr>\n      <th>1</th>\n      <td>10</td>\n      <td>Diego Estrada\\n\\nDesign Thinking Assignment\\n\\...</td>\n      <td>[Diego, Estrada, \\n\\n, Design, Thinking, Assig...</td>\n      <td>[True, False, False, True, True, False, False,...</td>\n      <td>[B-NAME_STUDENT, I-NAME_STUDENT, O, O, O, O, O...</td>\n    </tr>\n    <tr>\n      <th>2</th>\n      <td>16</td>\n      <td>Reporting process\\n\\nby Gilberto Gamboa\\n\\nCha...</td>\n      <td>[Reporting, process, \\n\\n, by, Gilberto, Gambo...</td>\n      <td>[True, False, False, True, True, False, False,...</td>\n      <td>[O, O, O, O, B-NAME_STUDENT, I-NAME_STUDENT, O...</td>\n    </tr>\n    <tr>\n      <th>3</th>\n      <td>20</td>\n      <td>Design Thinking for Innovation\\n\\nSindy Samaca...</td>\n      <td>[Design, Thinking, for, Innovation, \\n\\n, Sind...</td>\n      <td>[True, True, True, False, False, True, False, ...</td>\n      <td>[O, O, O, O, O, B-NAME_STUDENT, I-NAME_STUDENT...</td>\n    </tr>\n    <tr>\n      <th>4</th>\n      <td>56</td>\n      <td>Assignment:  Visualization Reflection  Submitt...</td>\n      <td>[Assignment, :,   , Visualization,  , Reflecti...</td>\n      <td>[False, False, False, False, False, False, Fal...</td>\n      <td>[O, O, O, O, O, O, O, O, O, O, O, O, B-NAME_ST...</td>\n    </tr>\n  </tbody>\n</table>\n</div>"
     },
     "execution_count": 153,
     "metadata": {},
     "output_type": "execute_result"
    }
   ],
   "source": [
    "train = pd.read_json(\"train.json\")\n",
    "train_df = pd.DataFrame(train)\n",
    "train_df.head()"
   ]
  },
  {
   "cell_type": "code",
   "execution_count": 154,
   "id": "105fdcead10cec33",
   "metadata": {
    "collapsed": false,
    "ExecuteTime": {
     "end_time": "2024-03-19T00:52:29.119218900Z",
     "start_time": "2024-03-19T00:52:29.035217600Z"
    }
   },
   "outputs": [
    {
     "data": {
      "text/plain": "   document                                          full_text  \\\n0         7  Design Thinking for innovation reflexion-Avril...   \n1        10  Diego Estrada\\n\\nDesign Thinking Assignment\\n\\...   \n2        16  Reporting process\\n\\nby Gilberto Gamboa\\n\\nCha...   \n3        20  Design Thinking for Innovation\\n\\nSindy Samaca...   \n4        56  Assignment:  Visualization Reflection  Submitt...   \n\n                                              tokens  \\\n0  [Design, Thinking, for, innovation, reflexion,...   \n1  [Diego, Estrada, \\n\\n, Design, Thinking, Assig...   \n2  [Reporting, process, \\n\\n, by, Gilberto, Gambo...   \n3  [Design, Thinking, for, Innovation, \\n\\n, Sind...   \n4  [Assignment, :,   , Visualization,  , Reflecti...   \n\n                                 trailing_whitespace  \n0  [True, True, True, True, False, False, True, F...  \n1  [True, False, False, True, True, False, False,...  \n2  [True, False, False, True, True, False, False,...  \n3  [True, True, True, False, False, True, False, ...  \n4  [False, False, False, False, False, False, Fal...  ",
      "text/html": "<div>\n<style scoped>\n    .dataframe tbody tr th:only-of-type {\n        vertical-align: middle;\n    }\n\n    .dataframe tbody tr th {\n        vertical-align: top;\n    }\n\n    .dataframe thead th {\n        text-align: right;\n    }\n</style>\n<table border=\"1\" class=\"dataframe\">\n  <thead>\n    <tr style=\"text-align: right;\">\n      <th></th>\n      <th>document</th>\n      <th>full_text</th>\n      <th>tokens</th>\n      <th>trailing_whitespace</th>\n    </tr>\n  </thead>\n  <tbody>\n    <tr>\n      <th>0</th>\n      <td>7</td>\n      <td>Design Thinking for innovation reflexion-Avril...</td>\n      <td>[Design, Thinking, for, innovation, reflexion,...</td>\n      <td>[True, True, True, True, False, False, True, F...</td>\n    </tr>\n    <tr>\n      <th>1</th>\n      <td>10</td>\n      <td>Diego Estrada\\n\\nDesign Thinking Assignment\\n\\...</td>\n      <td>[Diego, Estrada, \\n\\n, Design, Thinking, Assig...</td>\n      <td>[True, False, False, True, True, False, False,...</td>\n    </tr>\n    <tr>\n      <th>2</th>\n      <td>16</td>\n      <td>Reporting process\\n\\nby Gilberto Gamboa\\n\\nCha...</td>\n      <td>[Reporting, process, \\n\\n, by, Gilberto, Gambo...</td>\n      <td>[True, False, False, True, True, False, False,...</td>\n    </tr>\n    <tr>\n      <th>3</th>\n      <td>20</td>\n      <td>Design Thinking for Innovation\\n\\nSindy Samaca...</td>\n      <td>[Design, Thinking, for, Innovation, \\n\\n, Sind...</td>\n      <td>[True, True, True, False, False, True, False, ...</td>\n    </tr>\n    <tr>\n      <th>4</th>\n      <td>56</td>\n      <td>Assignment:  Visualization Reflection  Submitt...</td>\n      <td>[Assignment, :,   , Visualization,  , Reflecti...</td>\n      <td>[False, False, False, False, False, False, Fal...</td>\n    </tr>\n  </tbody>\n</table>\n</div>"
     },
     "execution_count": 154,
     "metadata": {},
     "output_type": "execute_result"
    }
   ],
   "source": [
    "test = pd.read_json(\"test.json\")\n",
    "test_df = pd.DataFrame(test)\n",
    "test_df.head()"
   ]
  },
  {
   "cell_type": "code",
   "execution_count": 155,
   "id": "d4cb0555badacf61",
   "metadata": {
    "collapsed": false,
    "ExecuteTime": {
     "end_time": "2024-03-19T00:52:29.244218200Z",
     "start_time": "2024-03-19T00:52:29.105213500Z"
    }
   },
   "outputs": [],
   "source": [
    "class MostFrequentClass:\n",
    "    \n",
    "    def __init__(self, data: pd.DataFrame, target: str):\n",
    "        self.target = target\n",
    "        self.data = data\n",
    "        self.pred_col1 = []\n",
    "        self.pred_col2 = []\n",
    "        self.values_dict = {}\n",
    "        self.test_data = []\n",
    "        self.TP, self.TN, self.FP, self.FN = 0, 0 , 0 , 0\n",
    "        \n",
    "    def train(self):\n",
    "        col = self.data[self.target]\n",
    "        \n",
    "        for row_label_list in [x for x in col]:\n",
    "            for value in row_label_list:\n",
    "                self.values_dict[value] = self.values_dict.get(value, 0) + 1\n",
    "        most_frequent = max(self.values_dict, key=lambda k: self.values_dict[k])\n",
    "        \n",
    "        self.data['most_frequent_class'] = pd.Series([most_frequent]*len(row_label_list) for row_label_list in [x for x in col])\n",
    "            \n",
    "        values_dict = self.values_dict\n",
    "        if len(list(values_dict.keys())) > 1:\n",
    "            values_dict.pop(most_frequent)\n",
    "        second_frequent = max(values_dict, key=lambda k: values_dict[k])\n",
    "        \n",
    "        self.data['next_most_frequent_class'] = pd.Series([second_frequent]*len(row_label_list) for row_label_list in [x for x in col])\n",
    "        \n",
    "    def predict(self, test: pd.DataFrame):\n",
    "        values_dict = {}\n",
    "        col = test[self.target]\n",
    "        for row_label_list in [x for x in col]:\n",
    "            for value in row_label_list:\n",
    "                values_dict[value] = values_dict.get(value, 0) + 1\n",
    "            most_frequent = max(values_dict, key=lambda k: values_dict[k])\n",
    "            self.pred_col1.append(most_frequent)\n",
    "            if len(list(values_dict.keys())) > 1:\n",
    "                values_dict.pop(most_frequent)\n",
    "            second_frequent = max(values_dict, key=lambda k: values_dict[k])\n",
    "            self.pred_col2.append(second_frequent)\n",
    "            values_dict = {}\n",
    "        for row_label_list in [x for x in col]:\n",
    "            test['most_frequent_class'] = pd.Series([score]*len(row_label_list) for score in self.pred_col1)\n",
    "            test['next_most_frequent_class'] = pd.Series([score]*len(row_label_list) for score in self.pred_col2)\n",
    "        self.test_data = test\n",
    "        return test\n",
    "\n",
    "    def calculate_confusion_matrix(self):\n",
    "        # Initialize counts\n",
    "        TP = 0\n",
    "        TN = 0\n",
    "        FP = 0\n",
    "        FN = 0\n",
    "\n",
    "        for _, actual_row in self.data['labels'].items():  # Iterate over items of the Series\n",
    "            index = 0  # Reset index for each row\n",
    "            predicted_row = self.test_data['next_most_frequent_class'].loc[index]\n",
    "    \n",
    "            # Compare predicted values with actual values\n",
    "            for actual_value, predicted_value in zip(actual_row, predicted_row):\n",
    "                if actual_value == 1 and predicted_value == 1:\n",
    "                    TP += 1\n",
    "                elif actual_value == 0 and predicted_value == 0:\n",
    "                    TN += 1\n",
    "                elif actual_value == 0 and predicted_value == 1:\n",
    "                    FP += 1\n",
    "                elif actual_value == 1 and predicted_value == 0:\n",
    "                    FN += 1\n",
    "    \n",
    "            index += 1\n",
    "    \n",
    "        self.TP=TP\n",
    "        self.TN=TN\n",
    "        self.FP=FP\n",
    "        self.FN=FN\n",
    "\n",
    "\n",
    "    def calculate_metrics(self):\n",
    "        TP = self.TP\n",
    "        TN = self.TN\n",
    "        FP = self.FP\n",
    "        FN = self.FN\n",
    "        accuracy = (TP + TN) / (TP + TN + FP + FN)\n",
    "\n",
    "        if TP + FP == 0:\n",
    "            precision = 0\n",
    "        else:\n",
    "            precision = TP / (TP + FP)\n",
    "    \n",
    "        if TP + FN == 0:\n",
    "            recall = 0\n",
    "        else:\n",
    "            recall = TP / (TP + FN)\n",
    "    \n",
    "        if precision + recall == 0:\n",
    "            f1_score = 0\n",
    "        else:\n",
    "            f1_score = 2 * (precision * recall) / (precision + recall)\n",
    "    \n",
    "        return accuracy, precision, recall, f1_score\n",
    "                \n",
    "        \n",
    "            \n",
    "        "
   ]
  },
  {
   "cell_type": "code",
   "execution_count": 156,
   "id": "8b82b543688fde21",
   "metadata": {
    "collapsed": false,
    "ExecuteTime": {
     "end_time": "2024-03-19T00:52:29.334215800Z",
     "start_time": "2024-03-19T00:52:29.120214500Z"
    }
   },
   "outputs": [],
   "source": [
    "#split\n",
    "def train_test_split(data: pd.DataFrame, train_percent: float):\n",
    "    if train_percent < 0 or train_percent > 1:\n",
    "        raise ValueError(\"train_percent must be between 0 and 1\")\n",
    "\n",
    "    test_percent = 1 - train_percent\n",
    "    test_set = data[:int(len(data) * test_percent)]\n",
    "    train_set = data[int(len(data) * test_percent):]\n",
    "    return train_set, test_set"
   ]
  },
  {
   "cell_type": "code",
   "execution_count": 157,
   "id": "1934e574de77feec",
   "metadata": {
    "collapsed": false,
    "ExecuteTime": {
     "end_time": "2024-03-19T00:52:29.335211900Z",
     "start_time": "2024-03-19T00:52:29.134213400Z"
    }
   },
   "outputs": [],
   "source": [
    "train_split, test_split = train_test_split(train_df, 0.9)"
   ]
  },
  {
   "cell_type": "code",
   "execution_count": 158,
   "id": "328736d05f6a38b4",
   "metadata": {
    "collapsed": false,
    "ExecuteTime": {
     "end_time": "2024-03-19T00:52:29.338211900Z",
     "start_time": "2024-03-19T00:52:29.149220200Z"
    }
   },
   "outputs": [
    {
     "data": {
      "text/plain": "     document                                          full_text  \\\n0           7  Design Thinking for innovation reflexion-Avril...   \n1          10  Diego Estrada\\n\\nDesign Thinking Assignment\\n\\...   \n2          16  Reporting process\\n\\nby Gilberto Gamboa\\n\\nCha...   \n3          20  Design Thinking for Innovation\\n\\nSindy Samaca...   \n4          56  Assignment:  Visualization Reflection  Submitt...   \n..        ...                                                ...   \n675      8980  LEARNING LAUNCH\\n\\nCHALLENGE\\n\\nIt’s the begin...   \n676      8982  Visualization tool – Sanne Aarts    Challenge ...   \n677      8984  1. Challenge : How do we make our customers ad...   \n678      8986  MIIND MAPPING\\n\\nChallenge:  As a student I ha...   \n679      8987  Reflection \"Mind Mapping\"\\n\\nChallenge & Selec...   \n\n                                                tokens  \\\n0    [Design, Thinking, for, innovation, reflexion,...   \n1    [Diego, Estrada, \\n\\n, Design, Thinking, Assig...   \n2    [Reporting, process, \\n\\n, by, Gilberto, Gambo...   \n3    [Design, Thinking, for, Innovation, \\n\\n, Sind...   \n4    [Assignment, :,   , Visualization,  , Reflecti...   \n..                                                 ...   \n675  [LEARNING, LAUNCH, \\n\\n, CHALLENGE, \\n\\n, It, ...   \n676  [Visualization, tool, –, Sanne, Aarts,    , Ch...   \n677  [1, ., Challenge, :, How, do, we, make, our, c...   \n678  [MIIND, MAPPING, \\n\\n, Challenge, :,  , As, a,...   \n679  [Reflection, \", Mind, Mapping, \", \\n\\n, Challe...   \n\n                                   trailing_whitespace  \\\n0    [True, True, True, True, False, False, True, F...   \n1    [True, False, False, True, True, False, False,...   \n2    [True, False, False, True, True, False, False,...   \n3    [True, True, True, False, False, True, False, ...   \n4    [False, False, False, False, False, False, Fal...   \n..                                                 ...   \n675  [True, False, False, False, False, False, True...   \n676  [True, True, True, True, True, False, True, Tr...   \n677  [False, True, True, True, True, True, True, Tr...   \n678  [True, False, False, False, True, False, True,...   \n679  [True, False, True, False, False, False, True,...   \n\n                                                labels  \n0    [O, O, O, O, O, O, O, O, O, B-NAME_STUDENT, I-...  \n1    [B-NAME_STUDENT, I-NAME_STUDENT, O, O, O, O, O...  \n2    [O, O, O, O, B-NAME_STUDENT, I-NAME_STUDENT, O...  \n3    [O, O, O, O, O, B-NAME_STUDENT, I-NAME_STUDENT...  \n4    [O, O, O, O, O, O, O, O, O, O, O, O, B-NAME_ST...  \n..                                                 ...  \n675  [O, O, O, O, O, O, O, O, O, O, O, O, O, O, O, ...  \n676  [O, O, O, B-NAME_STUDENT, I-NAME_STUDENT, O, O...  \n677  [O, O, O, O, O, O, O, O, O, O, O, O, O, O, O, ...  \n678  [O, O, O, O, O, O, O, O, O, O, O, O, O, O, O, ...  \n679  [O, O, O, O, O, O, O, O, O, O, O, O, O, O, O, ...  \n\n[680 rows x 5 columns]",
      "text/html": "<div>\n<style scoped>\n    .dataframe tbody tr th:only-of-type {\n        vertical-align: middle;\n    }\n\n    .dataframe tbody tr th {\n        vertical-align: top;\n    }\n\n    .dataframe thead th {\n        text-align: right;\n    }\n</style>\n<table border=\"1\" class=\"dataframe\">\n  <thead>\n    <tr style=\"text-align: right;\">\n      <th></th>\n      <th>document</th>\n      <th>full_text</th>\n      <th>tokens</th>\n      <th>trailing_whitespace</th>\n      <th>labels</th>\n    </tr>\n  </thead>\n  <tbody>\n    <tr>\n      <th>0</th>\n      <td>7</td>\n      <td>Design Thinking for innovation reflexion-Avril...</td>\n      <td>[Design, Thinking, for, innovation, reflexion,...</td>\n      <td>[True, True, True, True, False, False, True, F...</td>\n      <td>[O, O, O, O, O, O, O, O, O, B-NAME_STUDENT, I-...</td>\n    </tr>\n    <tr>\n      <th>1</th>\n      <td>10</td>\n      <td>Diego Estrada\\n\\nDesign Thinking Assignment\\n\\...</td>\n      <td>[Diego, Estrada, \\n\\n, Design, Thinking, Assig...</td>\n      <td>[True, False, False, True, True, False, False,...</td>\n      <td>[B-NAME_STUDENT, I-NAME_STUDENT, O, O, O, O, O...</td>\n    </tr>\n    <tr>\n      <th>2</th>\n      <td>16</td>\n      <td>Reporting process\\n\\nby Gilberto Gamboa\\n\\nCha...</td>\n      <td>[Reporting, process, \\n\\n, by, Gilberto, Gambo...</td>\n      <td>[True, False, False, True, True, False, False,...</td>\n      <td>[O, O, O, O, B-NAME_STUDENT, I-NAME_STUDENT, O...</td>\n    </tr>\n    <tr>\n      <th>3</th>\n      <td>20</td>\n      <td>Design Thinking for Innovation\\n\\nSindy Samaca...</td>\n      <td>[Design, Thinking, for, Innovation, \\n\\n, Sind...</td>\n      <td>[True, True, True, False, False, True, False, ...</td>\n      <td>[O, O, O, O, O, B-NAME_STUDENT, I-NAME_STUDENT...</td>\n    </tr>\n    <tr>\n      <th>4</th>\n      <td>56</td>\n      <td>Assignment:  Visualization Reflection  Submitt...</td>\n      <td>[Assignment, :,   , Visualization,  , Reflecti...</td>\n      <td>[False, False, False, False, False, False, Fal...</td>\n      <td>[O, O, O, O, O, O, O, O, O, O, O, O, B-NAME_ST...</td>\n    </tr>\n    <tr>\n      <th>...</th>\n      <td>...</td>\n      <td>...</td>\n      <td>...</td>\n      <td>...</td>\n      <td>...</td>\n    </tr>\n    <tr>\n      <th>675</th>\n      <td>8980</td>\n      <td>LEARNING LAUNCH\\n\\nCHALLENGE\\n\\nIt’s the begin...</td>\n      <td>[LEARNING, LAUNCH, \\n\\n, CHALLENGE, \\n\\n, It, ...</td>\n      <td>[True, False, False, False, False, False, True...</td>\n      <td>[O, O, O, O, O, O, O, O, O, O, O, O, O, O, O, ...</td>\n    </tr>\n    <tr>\n      <th>676</th>\n      <td>8982</td>\n      <td>Visualization tool – Sanne Aarts    Challenge ...</td>\n      <td>[Visualization, tool, –, Sanne, Aarts,    , Ch...</td>\n      <td>[True, True, True, True, True, False, True, Tr...</td>\n      <td>[O, O, O, B-NAME_STUDENT, I-NAME_STUDENT, O, O...</td>\n    </tr>\n    <tr>\n      <th>677</th>\n      <td>8984</td>\n      <td>1. Challenge : How do we make our customers ad...</td>\n      <td>[1, ., Challenge, :, How, do, we, make, our, c...</td>\n      <td>[False, True, True, True, True, True, True, Tr...</td>\n      <td>[O, O, O, O, O, O, O, O, O, O, O, O, O, O, O, ...</td>\n    </tr>\n    <tr>\n      <th>678</th>\n      <td>8986</td>\n      <td>MIIND MAPPING\\n\\nChallenge:  As a student I ha...</td>\n      <td>[MIIND, MAPPING, \\n\\n, Challenge, :,  , As, a,...</td>\n      <td>[True, False, False, False, True, False, True,...</td>\n      <td>[O, O, O, O, O, O, O, O, O, O, O, O, O, O, O, ...</td>\n    </tr>\n    <tr>\n      <th>679</th>\n      <td>8987</td>\n      <td>Reflection \"Mind Mapping\"\\n\\nChallenge &amp; Selec...</td>\n      <td>[Reflection, \", Mind, Mapping, \", \\n\\n, Challe...</td>\n      <td>[True, False, True, False, False, False, True,...</td>\n      <td>[O, O, O, O, O, O, O, O, O, O, O, O, O, O, O, ...</td>\n    </tr>\n  </tbody>\n</table>\n<p>680 rows × 5 columns</p>\n</div>"
     },
     "execution_count": 158,
     "metadata": {},
     "output_type": "execute_result"
    }
   ],
   "source": [
    "test_split"
   ]
  },
  {
   "cell_type": "code",
   "execution_count": 159,
   "id": "a7f0b443caec8251",
   "metadata": {
    "collapsed": false,
    "ExecuteTime": {
     "end_time": "2024-03-19T00:52:31.487166600Z",
     "start_time": "2024-03-19T00:52:29.239212800Z"
    }
   },
   "outputs": [
    {
     "name": "stderr",
     "output_type": "stream",
     "text": [
      "C:\\Users\\HP\\AppData\\Local\\Temp\\ipykernel_8260\\157145585.py:20: SettingWithCopyWarning: \n",
      "A value is trying to be set on a copy of a slice from a DataFrame.\n",
      "Try using .loc[row_indexer,col_indexer] = value instead\n",
      "\n",
      "See the caveats in the documentation: https://pandas.pydata.org/pandas-docs/stable/user_guide/indexing.html#returning-a-view-versus-a-copy\n",
      "  self.data['most_frequent_class'] = pd.Series([most_frequent]*len(row_label_list) for row_label_list in [x for x in col])\n",
      "C:\\Users\\HP\\AppData\\Local\\Temp\\ipykernel_8260\\157145585.py:27: SettingWithCopyWarning: \n",
      "A value is trying to be set on a copy of a slice from a DataFrame.\n",
      "Try using .loc[row_indexer,col_indexer] = value instead\n",
      "\n",
      "See the caveats in the documentation: https://pandas.pydata.org/pandas-docs/stable/user_guide/indexing.html#returning-a-view-versus-a-copy\n",
      "  self.data['next_most_frequent_class'] = pd.Series([second_frequent]*len(row_label_list) for row_label_list in [x for x in col])\n"
     ]
    },
    {
     "data": {
      "text/plain": "      document                                          full_text  \\\n680       8988  We believe that all kids are naturally creativ...   \n681       8989  Reflection - Mind Mapping\\n\\nChallenge\\n\\nI am...   \n682       8993  Visualization\\n\\nChallenge\\n\\nSince I am an ev...   \n683       8995  Visualization\\n\\nChallenge\\n\\nWhen I worked as...   \n684       8996  Visualizations are one of the important parts ...   \n...        ...                                                ...   \n6802     22678  EXAMPLE – JOURNEY MAP\\n\\nTHE CHALLENGE    My w...   \n6803     22679  Why Mind Mapping?\\n\\nMind maps are graphical r...   \n6804     22681  Challenge\\n\\nSo, a few months back, I had chos...   \n6805     22684  Brainstorming\\n\\nChallenge & Selection\\n\\nBrai...   \n6806     22687  Mind Mapping\\n\\nChallenge\\n\\nMy consulting tea...   \n\n                                                 tokens  \\\n680   [We, believe, that, all, kids, are, naturally,...   \n681   [Reflection, -, Mind, Mapping, \\n\\n, Challenge...   \n682   [Visualization, \\n\\n, Challenge, \\n\\n, Since, ...   \n683   [Visualization, \\n\\n, Challenge, \\n\\n, When, I...   \n684   [Visualizations, are, one, of, the, important,...   \n...                                                 ...   \n6802  [EXAMPLE, –, JOURNEY, MAP, \\n\\n, THE, CHALLENG...   \n6803  [Why, Mind, Mapping, ?, \\n\\n, Mind, maps, are,...   \n6804  [Challenge, \\n\\n, So, ,, a, few, months, back,...   \n6805  [Brainstorming, \\n\\n, Challenge, &, Selection,...   \n6806  [Mind, Mapping, \\n\\n, Challenge, \\n\\n, My, con...   \n\n                                    trailing_whitespace  \\\n680   [True, True, True, True, True, True, True, Tru...   \n681   [True, True, True, False, False, False, False,...   \n682   [False, False, False, False, True, True, True,...   \n683   [False, False, False, False, True, True, True,...   \n684   [True, True, True, True, True, True, True, Tru...   \n...                                                 ...   \n6802  [True, True, True, False, False, True, True, F...   \n6803  [True, True, False, False, False, True, True, ...   \n6804  [False, False, False, True, True, True, True, ...   \n6805  [False, False, True, True, False, False, True,...   \n6806  [True, False, False, False, False, True, True,...   \n\n                                                 labels  \\\n680   [O, O, O, O, O, O, O, O, O, O, O, O, O, O, O, ...   \n681   [O, O, O, O, O, O, O, O, O, O, O, O, O, O, O, ...   \n682   [O, O, O, O, O, O, O, O, O, O, O, O, O, O, O, ...   \n683   [O, O, O, O, O, O, O, O, O, O, O, O, O, O, O, ...   \n684   [O, O, O, O, O, O, O, O, O, O, O, O, O, O, O, ...   \n...                                                 ...   \n6802  [O, O, O, O, O, O, O, O, O, O, O, O, O, O, O, ...   \n6803  [O, O, O, O, O, O, O, O, O, O, O, O, O, O, O, ...   \n6804  [O, O, O, O, O, O, O, O, O, O, O, O, O, O, O, ...   \n6805  [O, O, O, O, O, O, O, O, O, O, O, O, O, O, O, ...   \n6806  [O, O, O, O, O, O, O, O, O, O, O, O, O, O, O, ...   \n\n                                    most_frequent_class  \\\n680   [O, O, O, O, O, O, O, O, O, O, O, O, O, O, O, ...   \n681   [O, O, O, O, O, O, O, O, O, O, O, O, O, O, O, ...   \n682   [O, O, O, O, O, O, O, O, O, O, O, O, O, O, O, ...   \n683   [O, O, O, O, O, O, O, O, O, O, O, O, O, O, O, ...   \n684   [O, O, O, O, O, O, O, O, O, O, O, O, O, O, O, ...   \n...                                                 ...   \n6802                                                NaN   \n6803                                                NaN   \n6804                                                NaN   \n6805                                                NaN   \n6806                                                NaN   \n\n                               next_most_frequent_class  \n680   [B-NAME_STUDENT, B-NAME_STUDENT, B-NAME_STUDEN...  \n681   [B-NAME_STUDENT, B-NAME_STUDENT, B-NAME_STUDEN...  \n682   [B-NAME_STUDENT, B-NAME_STUDENT, B-NAME_STUDEN...  \n683   [B-NAME_STUDENT, B-NAME_STUDENT, B-NAME_STUDEN...  \n684   [B-NAME_STUDENT, B-NAME_STUDENT, B-NAME_STUDEN...  \n...                                                 ...  \n6802                                                NaN  \n6803                                                NaN  \n6804                                                NaN  \n6805                                                NaN  \n6806                                                NaN  \n\n[6127 rows x 7 columns]",
      "text/html": "<div>\n<style scoped>\n    .dataframe tbody tr th:only-of-type {\n        vertical-align: middle;\n    }\n\n    .dataframe tbody tr th {\n        vertical-align: top;\n    }\n\n    .dataframe thead th {\n        text-align: right;\n    }\n</style>\n<table border=\"1\" class=\"dataframe\">\n  <thead>\n    <tr style=\"text-align: right;\">\n      <th></th>\n      <th>document</th>\n      <th>full_text</th>\n      <th>tokens</th>\n      <th>trailing_whitespace</th>\n      <th>labels</th>\n      <th>most_frequent_class</th>\n      <th>next_most_frequent_class</th>\n    </tr>\n  </thead>\n  <tbody>\n    <tr>\n      <th>680</th>\n      <td>8988</td>\n      <td>We believe that all kids are naturally creativ...</td>\n      <td>[We, believe, that, all, kids, are, naturally,...</td>\n      <td>[True, True, True, True, True, True, True, Tru...</td>\n      <td>[O, O, O, O, O, O, O, O, O, O, O, O, O, O, O, ...</td>\n      <td>[O, O, O, O, O, O, O, O, O, O, O, O, O, O, O, ...</td>\n      <td>[B-NAME_STUDENT, B-NAME_STUDENT, B-NAME_STUDEN...</td>\n    </tr>\n    <tr>\n      <th>681</th>\n      <td>8989</td>\n      <td>Reflection - Mind Mapping\\n\\nChallenge\\n\\nI am...</td>\n      <td>[Reflection, -, Mind, Mapping, \\n\\n, Challenge...</td>\n      <td>[True, True, True, False, False, False, False,...</td>\n      <td>[O, O, O, O, O, O, O, O, O, O, O, O, O, O, O, ...</td>\n      <td>[O, O, O, O, O, O, O, O, O, O, O, O, O, O, O, ...</td>\n      <td>[B-NAME_STUDENT, B-NAME_STUDENT, B-NAME_STUDEN...</td>\n    </tr>\n    <tr>\n      <th>682</th>\n      <td>8993</td>\n      <td>Visualization\\n\\nChallenge\\n\\nSince I am an ev...</td>\n      <td>[Visualization, \\n\\n, Challenge, \\n\\n, Since, ...</td>\n      <td>[False, False, False, False, True, True, True,...</td>\n      <td>[O, O, O, O, O, O, O, O, O, O, O, O, O, O, O, ...</td>\n      <td>[O, O, O, O, O, O, O, O, O, O, O, O, O, O, O, ...</td>\n      <td>[B-NAME_STUDENT, B-NAME_STUDENT, B-NAME_STUDEN...</td>\n    </tr>\n    <tr>\n      <th>683</th>\n      <td>8995</td>\n      <td>Visualization\\n\\nChallenge\\n\\nWhen I worked as...</td>\n      <td>[Visualization, \\n\\n, Challenge, \\n\\n, When, I...</td>\n      <td>[False, False, False, False, True, True, True,...</td>\n      <td>[O, O, O, O, O, O, O, O, O, O, O, O, O, O, O, ...</td>\n      <td>[O, O, O, O, O, O, O, O, O, O, O, O, O, O, O, ...</td>\n      <td>[B-NAME_STUDENT, B-NAME_STUDENT, B-NAME_STUDEN...</td>\n    </tr>\n    <tr>\n      <th>684</th>\n      <td>8996</td>\n      <td>Visualizations are one of the important parts ...</td>\n      <td>[Visualizations, are, one, of, the, important,...</td>\n      <td>[True, True, True, True, True, True, True, Tru...</td>\n      <td>[O, O, O, O, O, O, O, O, O, O, O, O, O, O, O, ...</td>\n      <td>[O, O, O, O, O, O, O, O, O, O, O, O, O, O, O, ...</td>\n      <td>[B-NAME_STUDENT, B-NAME_STUDENT, B-NAME_STUDEN...</td>\n    </tr>\n    <tr>\n      <th>...</th>\n      <td>...</td>\n      <td>...</td>\n      <td>...</td>\n      <td>...</td>\n      <td>...</td>\n      <td>...</td>\n      <td>...</td>\n    </tr>\n    <tr>\n      <th>6802</th>\n      <td>22678</td>\n      <td>EXAMPLE – JOURNEY MAP\\n\\nTHE CHALLENGE    My w...</td>\n      <td>[EXAMPLE, –, JOURNEY, MAP, \\n\\n, THE, CHALLENG...</td>\n      <td>[True, True, True, False, False, True, True, F...</td>\n      <td>[O, O, O, O, O, O, O, O, O, O, O, O, O, O, O, ...</td>\n      <td>NaN</td>\n      <td>NaN</td>\n    </tr>\n    <tr>\n      <th>6803</th>\n      <td>22679</td>\n      <td>Why Mind Mapping?\\n\\nMind maps are graphical r...</td>\n      <td>[Why, Mind, Mapping, ?, \\n\\n, Mind, maps, are,...</td>\n      <td>[True, True, False, False, False, True, True, ...</td>\n      <td>[O, O, O, O, O, O, O, O, O, O, O, O, O, O, O, ...</td>\n      <td>NaN</td>\n      <td>NaN</td>\n    </tr>\n    <tr>\n      <th>6804</th>\n      <td>22681</td>\n      <td>Challenge\\n\\nSo, a few months back, I had chos...</td>\n      <td>[Challenge, \\n\\n, So, ,, a, few, months, back,...</td>\n      <td>[False, False, False, True, True, True, True, ...</td>\n      <td>[O, O, O, O, O, O, O, O, O, O, O, O, O, O, O, ...</td>\n      <td>NaN</td>\n      <td>NaN</td>\n    </tr>\n    <tr>\n      <th>6805</th>\n      <td>22684</td>\n      <td>Brainstorming\\n\\nChallenge &amp; Selection\\n\\nBrai...</td>\n      <td>[Brainstorming, \\n\\n, Challenge, &amp;, Selection,...</td>\n      <td>[False, False, True, True, False, False, True,...</td>\n      <td>[O, O, O, O, O, O, O, O, O, O, O, O, O, O, O, ...</td>\n      <td>NaN</td>\n      <td>NaN</td>\n    </tr>\n    <tr>\n      <th>6806</th>\n      <td>22687</td>\n      <td>Mind Mapping\\n\\nChallenge\\n\\nMy consulting tea...</td>\n      <td>[Mind, Mapping, \\n\\n, Challenge, \\n\\n, My, con...</td>\n      <td>[True, False, False, False, False, True, True,...</td>\n      <td>[O, O, O, O, O, O, O, O, O, O, O, O, O, O, O, ...</td>\n      <td>NaN</td>\n      <td>NaN</td>\n    </tr>\n  </tbody>\n</table>\n<p>6127 rows × 7 columns</p>\n</div>"
     },
     "execution_count": 159,
     "metadata": {},
     "output_type": "execute_result"
    }
   ],
   "source": [
    "MFC = MostFrequentClass(train_split, 'labels')\n",
    "MFC.train()\n",
    "MFC.data"
   ]
  },
  {
   "cell_type": "code",
   "execution_count": 160,
   "id": "6afd59c2d6489edf",
   "metadata": {
    "collapsed": false,
    "ExecuteTime": {
     "end_time": "2024-03-19T00:52:39.324071700Z",
     "start_time": "2024-03-19T00:52:31.474168300Z"
    }
   },
   "outputs": [
    {
     "name": "stderr",
     "output_type": "stream",
     "text": [
      "C:\\Users\\HP\\AppData\\Local\\Temp\\ipykernel_8260\\157145585.py:43: SettingWithCopyWarning: \n",
      "A value is trying to be set on a copy of a slice from a DataFrame.\n",
      "Try using .loc[row_indexer,col_indexer] = value instead\n",
      "\n",
      "See the caveats in the documentation: https://pandas.pydata.org/pandas-docs/stable/user_guide/indexing.html#returning-a-view-versus-a-copy\n",
      "  test['most_frequent_class'] = pd.Series([score]*len(row_label_list) for score in self.pred_col1)\n",
      "C:\\Users\\HP\\AppData\\Local\\Temp\\ipykernel_8260\\157145585.py:44: SettingWithCopyWarning: \n",
      "A value is trying to be set on a copy of a slice from a DataFrame.\n",
      "Try using .loc[row_indexer,col_indexer] = value instead\n",
      "\n",
      "See the caveats in the documentation: https://pandas.pydata.org/pandas-docs/stable/user_guide/indexing.html#returning-a-view-versus-a-copy\n",
      "  test['next_most_frequent_class'] = pd.Series([score]*len(row_label_list) for score in self.pred_col2)\n",
      "C:\\Users\\HP\\AppData\\Local\\Temp\\ipykernel_8260\\157145585.py:43: SettingWithCopyWarning: \n",
      "A value is trying to be set on a copy of a slice from a DataFrame.\n",
      "Try using .loc[row_indexer,col_indexer] = value instead\n",
      "\n",
      "See the caveats in the documentation: https://pandas.pydata.org/pandas-docs/stable/user_guide/indexing.html#returning-a-view-versus-a-copy\n",
      "  test['most_frequent_class'] = pd.Series([score]*len(row_label_list) for score in self.pred_col1)\n"
     ]
    },
    {
     "data": {
      "text/plain": "     document                                          full_text  \\\n0           7  Design Thinking for innovation reflexion-Avril...   \n1          10  Diego Estrada\\n\\nDesign Thinking Assignment\\n\\...   \n2          16  Reporting process\\n\\nby Gilberto Gamboa\\n\\nCha...   \n3          20  Design Thinking for Innovation\\n\\nSindy Samaca...   \n4          56  Assignment:  Visualization Reflection  Submitt...   \n..        ...                                                ...   \n675      8980  LEARNING LAUNCH\\n\\nCHALLENGE\\n\\nIt’s the begin...   \n676      8982  Visualization tool – Sanne Aarts    Challenge ...   \n677      8984  1. Challenge : How do we make our customers ad...   \n678      8986  MIIND MAPPING\\n\\nChallenge:  As a student I ha...   \n679      8987  Reflection \"Mind Mapping\"\\n\\nChallenge & Selec...   \n\n                                                tokens  \\\n0    [Design, Thinking, for, innovation, reflexion,...   \n1    [Diego, Estrada, \\n\\n, Design, Thinking, Assig...   \n2    [Reporting, process, \\n\\n, by, Gilberto, Gambo...   \n3    [Design, Thinking, for, Innovation, \\n\\n, Sind...   \n4    [Assignment, :,   , Visualization,  , Reflecti...   \n..                                                 ...   \n675  [LEARNING, LAUNCH, \\n\\n, CHALLENGE, \\n\\n, It, ...   \n676  [Visualization, tool, –, Sanne, Aarts,    , Ch...   \n677  [1, ., Challenge, :, How, do, we, make, our, c...   \n678  [MIIND, MAPPING, \\n\\n, Challenge, :,  , As, a,...   \n679  [Reflection, \", Mind, Mapping, \", \\n\\n, Challe...   \n\n                                   trailing_whitespace  \\\n0    [True, True, True, True, False, False, True, F...   \n1    [True, False, False, True, True, False, False,...   \n2    [True, False, False, True, True, False, False,...   \n3    [True, True, True, False, False, True, False, ...   \n4    [False, False, False, False, False, False, Fal...   \n..                                                 ...   \n675  [True, False, False, False, False, False, True...   \n676  [True, True, True, True, True, False, True, Tr...   \n677  [False, True, True, True, True, True, True, Tr...   \n678  [True, False, False, False, True, False, True,...   \n679  [True, False, True, False, False, False, True,...   \n\n                                                labels  \\\n0    [O, O, O, O, O, O, O, O, O, B-NAME_STUDENT, I-...   \n1    [B-NAME_STUDENT, I-NAME_STUDENT, O, O, O, O, O...   \n2    [O, O, O, O, B-NAME_STUDENT, I-NAME_STUDENT, O...   \n3    [O, O, O, O, O, B-NAME_STUDENT, I-NAME_STUDENT...   \n4    [O, O, O, O, O, O, O, O, O, O, O, O, B-NAME_ST...   \n..                                                 ...   \n675  [O, O, O, O, O, O, O, O, O, O, O, O, O, O, O, ...   \n676  [O, O, O, B-NAME_STUDENT, I-NAME_STUDENT, O, O...   \n677  [O, O, O, O, O, O, O, O, O, O, O, O, O, O, O, ...   \n678  [O, O, O, O, O, O, O, O, O, O, O, O, O, O, O, ...   \n679  [O, O, O, O, O, O, O, O, O, O, O, O, O, O, O, ...   \n\n                                   most_frequent_class  \\\n0    [O, O, O, O, O, O, O, O, O, O, O, O, O, O, O, ...   \n1    [O, O, O, O, O, O, O, O, O, O, O, O, O, O, O, ...   \n2    [O, O, O, O, O, O, O, O, O, O, O, O, O, O, O, ...   \n3    [O, O, O, O, O, O, O, O, O, O, O, O, O, O, O, ...   \n4    [O, O, O, O, O, O, O, O, O, O, O, O, O, O, O, ...   \n..                                                 ...   \n675  [O, O, O, O, O, O, O, O, O, O, O, O, O, O, O, ...   \n676  [O, O, O, O, O, O, O, O, O, O, O, O, O, O, O, ...   \n677  [O, O, O, O, O, O, O, O, O, O, O, O, O, O, O, ...   \n678  [O, O, O, O, O, O, O, O, O, O, O, O, O, O, O, ...   \n679  [O, O, O, O, O, O, O, O, O, O, O, O, O, O, O, ...   \n\n                              next_most_frequent_class  \n0    [B-NAME_STUDENT, B-NAME_STUDENT, B-NAME_STUDEN...  \n1    [B-NAME_STUDENT, B-NAME_STUDENT, B-NAME_STUDEN...  \n2    [B-NAME_STUDENT, B-NAME_STUDENT, B-NAME_STUDEN...  \n3    [B-NAME_STUDENT, B-NAME_STUDENT, B-NAME_STUDEN...  \n4    [B-NAME_STUDENT, B-NAME_STUDENT, B-NAME_STUDEN...  \n..                                                 ...  \n675  [O, O, O, O, O, O, O, O, O, O, O, O, O, O, O, ...  \n676  [B-NAME_STUDENT, B-NAME_STUDENT, B-NAME_STUDEN...  \n677  [O, O, O, O, O, O, O, O, O, O, O, O, O, O, O, ...  \n678  [O, O, O, O, O, O, O, O, O, O, O, O, O, O, O, ...  \n679  [O, O, O, O, O, O, O, O, O, O, O, O, O, O, O, ...  \n\n[680 rows x 7 columns]",
      "text/html": "<div>\n<style scoped>\n    .dataframe tbody tr th:only-of-type {\n        vertical-align: middle;\n    }\n\n    .dataframe tbody tr th {\n        vertical-align: top;\n    }\n\n    .dataframe thead th {\n        text-align: right;\n    }\n</style>\n<table border=\"1\" class=\"dataframe\">\n  <thead>\n    <tr style=\"text-align: right;\">\n      <th></th>\n      <th>document</th>\n      <th>full_text</th>\n      <th>tokens</th>\n      <th>trailing_whitespace</th>\n      <th>labels</th>\n      <th>most_frequent_class</th>\n      <th>next_most_frequent_class</th>\n    </tr>\n  </thead>\n  <tbody>\n    <tr>\n      <th>0</th>\n      <td>7</td>\n      <td>Design Thinking for innovation reflexion-Avril...</td>\n      <td>[Design, Thinking, for, innovation, reflexion,...</td>\n      <td>[True, True, True, True, False, False, True, F...</td>\n      <td>[O, O, O, O, O, O, O, O, O, B-NAME_STUDENT, I-...</td>\n      <td>[O, O, O, O, O, O, O, O, O, O, O, O, O, O, O, ...</td>\n      <td>[B-NAME_STUDENT, B-NAME_STUDENT, B-NAME_STUDEN...</td>\n    </tr>\n    <tr>\n      <th>1</th>\n      <td>10</td>\n      <td>Diego Estrada\\n\\nDesign Thinking Assignment\\n\\...</td>\n      <td>[Diego, Estrada, \\n\\n, Design, Thinking, Assig...</td>\n      <td>[True, False, False, True, True, False, False,...</td>\n      <td>[B-NAME_STUDENT, I-NAME_STUDENT, O, O, O, O, O...</td>\n      <td>[O, O, O, O, O, O, O, O, O, O, O, O, O, O, O, ...</td>\n      <td>[B-NAME_STUDENT, B-NAME_STUDENT, B-NAME_STUDEN...</td>\n    </tr>\n    <tr>\n      <th>2</th>\n      <td>16</td>\n      <td>Reporting process\\n\\nby Gilberto Gamboa\\n\\nCha...</td>\n      <td>[Reporting, process, \\n\\n, by, Gilberto, Gambo...</td>\n      <td>[True, False, False, True, True, False, False,...</td>\n      <td>[O, O, O, O, B-NAME_STUDENT, I-NAME_STUDENT, O...</td>\n      <td>[O, O, O, O, O, O, O, O, O, O, O, O, O, O, O, ...</td>\n      <td>[B-NAME_STUDENT, B-NAME_STUDENT, B-NAME_STUDEN...</td>\n    </tr>\n    <tr>\n      <th>3</th>\n      <td>20</td>\n      <td>Design Thinking for Innovation\\n\\nSindy Samaca...</td>\n      <td>[Design, Thinking, for, Innovation, \\n\\n, Sind...</td>\n      <td>[True, True, True, False, False, True, False, ...</td>\n      <td>[O, O, O, O, O, B-NAME_STUDENT, I-NAME_STUDENT...</td>\n      <td>[O, O, O, O, O, O, O, O, O, O, O, O, O, O, O, ...</td>\n      <td>[B-NAME_STUDENT, B-NAME_STUDENT, B-NAME_STUDEN...</td>\n    </tr>\n    <tr>\n      <th>4</th>\n      <td>56</td>\n      <td>Assignment:  Visualization Reflection  Submitt...</td>\n      <td>[Assignment, :,   , Visualization,  , Reflecti...</td>\n      <td>[False, False, False, False, False, False, Fal...</td>\n      <td>[O, O, O, O, O, O, O, O, O, O, O, O, B-NAME_ST...</td>\n      <td>[O, O, O, O, O, O, O, O, O, O, O, O, O, O, O, ...</td>\n      <td>[B-NAME_STUDENT, B-NAME_STUDENT, B-NAME_STUDEN...</td>\n    </tr>\n    <tr>\n      <th>...</th>\n      <td>...</td>\n      <td>...</td>\n      <td>...</td>\n      <td>...</td>\n      <td>...</td>\n      <td>...</td>\n      <td>...</td>\n    </tr>\n    <tr>\n      <th>675</th>\n      <td>8980</td>\n      <td>LEARNING LAUNCH\\n\\nCHALLENGE\\n\\nIt’s the begin...</td>\n      <td>[LEARNING, LAUNCH, \\n\\n, CHALLENGE, \\n\\n, It, ...</td>\n      <td>[True, False, False, False, False, False, True...</td>\n      <td>[O, O, O, O, O, O, O, O, O, O, O, O, O, O, O, ...</td>\n      <td>[O, O, O, O, O, O, O, O, O, O, O, O, O, O, O, ...</td>\n      <td>[O, O, O, O, O, O, O, O, O, O, O, O, O, O, O, ...</td>\n    </tr>\n    <tr>\n      <th>676</th>\n      <td>8982</td>\n      <td>Visualization tool – Sanne Aarts    Challenge ...</td>\n      <td>[Visualization, tool, –, Sanne, Aarts,    , Ch...</td>\n      <td>[True, True, True, True, True, False, True, Tr...</td>\n      <td>[O, O, O, B-NAME_STUDENT, I-NAME_STUDENT, O, O...</td>\n      <td>[O, O, O, O, O, O, O, O, O, O, O, O, O, O, O, ...</td>\n      <td>[B-NAME_STUDENT, B-NAME_STUDENT, B-NAME_STUDEN...</td>\n    </tr>\n    <tr>\n      <th>677</th>\n      <td>8984</td>\n      <td>1. Challenge : How do we make our customers ad...</td>\n      <td>[1, ., Challenge, :, How, do, we, make, our, c...</td>\n      <td>[False, True, True, True, True, True, True, Tr...</td>\n      <td>[O, O, O, O, O, O, O, O, O, O, O, O, O, O, O, ...</td>\n      <td>[O, O, O, O, O, O, O, O, O, O, O, O, O, O, O, ...</td>\n      <td>[O, O, O, O, O, O, O, O, O, O, O, O, O, O, O, ...</td>\n    </tr>\n    <tr>\n      <th>678</th>\n      <td>8986</td>\n      <td>MIIND MAPPING\\n\\nChallenge:  As a student I ha...</td>\n      <td>[MIIND, MAPPING, \\n\\n, Challenge, :,  , As, a,...</td>\n      <td>[True, False, False, False, True, False, True,...</td>\n      <td>[O, O, O, O, O, O, O, O, O, O, O, O, O, O, O, ...</td>\n      <td>[O, O, O, O, O, O, O, O, O, O, O, O, O, O, O, ...</td>\n      <td>[O, O, O, O, O, O, O, O, O, O, O, O, O, O, O, ...</td>\n    </tr>\n    <tr>\n      <th>679</th>\n      <td>8987</td>\n      <td>Reflection \"Mind Mapping\"\\n\\nChallenge &amp; Selec...</td>\n      <td>[Reflection, \", Mind, Mapping, \", \\n\\n, Challe...</td>\n      <td>[True, False, True, False, False, False, True,...</td>\n      <td>[O, O, O, O, O, O, O, O, O, O, O, O, O, O, O, ...</td>\n      <td>[O, O, O, O, O, O, O, O, O, O, O, O, O, O, O, ...</td>\n      <td>[O, O, O, O, O, O, O, O, O, O, O, O, O, O, O, ...</td>\n    </tr>\n  </tbody>\n</table>\n<p>680 rows × 7 columns</p>\n</div>"
     },
     "execution_count": 160,
     "metadata": {},
     "output_type": "execute_result"
    }
   ],
   "source": [
    "pred = MFC.predict(test_split)\n",
    "pred"
   ]
  },
  {
   "cell_type": "markdown",
   "source": [
    "# Evaluation"
   ],
   "metadata": {
    "collapsed": false
   },
   "id": "89e2f315d9dc8204"
  },
  {
   "cell_type": "markdown",
   "source": [
    "# Submission"
   ],
   "metadata": {
    "collapsed": false
   },
   "id": "81a68ef00d541932"
  },
  {
   "cell_type": "code",
   "execution_count": 181,
   "id": "5f9f4ca5fbce513",
   "metadata": {
    "collapsed": false,
    "ExecuteTime": {
     "end_time": "2024-03-19T01:09:37.144782500Z",
     "start_time": "2024-03-19T01:09:34.341354300Z"
    }
   },
   "outputs": [],
   "source": [
    "from itertools import chain\n",
    "for i in pred['tokens']:\n",
    "    document = [[doc]*len(i) for doc in pred['document']]\n",
    "document = list(chain.from_iterable(document))    \n",
    "tokens = [temp2 for temp in pred['tokens'] for temp2 in temp]\n",
    "labels = [temp2 for temp in pred['labels'] for temp2 in temp]\n",
    "most_f = [temp2 for temp in pred['most_frequent_class'] for temp2 in temp]\n",
    "next_most_f = [temp2 for temp in pred['next_most_frequent_class'] for temp2 in temp]\n"
   ]
  },
  {
   "cell_type": "code",
   "outputs": [],
   "source": [
    "df = pd.DataFrame()\n",
    "df['document'] = pd.Series(document)\n",
    "df['tokens'] = pd.Series(tokens)\n",
    "df['labels'] = pd.Series(labels)\n",
    "df['most_frequent_class'] = pd.Series(most_f)"
   ],
   "metadata": {
    "collapsed": false,
    "ExecuteTime": {
     "end_time": "2024-03-19T01:09:37.596384500Z",
     "start_time": "2024-03-19T01:09:37.144782500Z"
    }
   },
   "id": "73b1ad6b73198edd",
   "execution_count": 182
  },
  {
   "cell_type": "code",
   "outputs": [
    {
     "data": {
      "text/plain": "        document      tokens labels most_frequent_class\n0              7      Design      O                   O\n1              7    Thinking      O                   O\n2              7         for      O                   O\n3              7  innovation      O                   O\n4              7   reflexion      O                   O\n...          ...         ...    ...                 ...\n550795      8987         NaN    NaN                   O\n550796      8987         NaN    NaN                   O\n550797      8987         NaN    NaN                   O\n550798      8987         NaN    NaN                   O\n550799      8987         NaN    NaN                   O\n\n[550800 rows x 4 columns]",
      "text/html": "<div>\n<style scoped>\n    .dataframe tbody tr th:only-of-type {\n        vertical-align: middle;\n    }\n\n    .dataframe tbody tr th {\n        vertical-align: top;\n    }\n\n    .dataframe thead th {\n        text-align: right;\n    }\n</style>\n<table border=\"1\" class=\"dataframe\">\n  <thead>\n    <tr style=\"text-align: right;\">\n      <th></th>\n      <th>document</th>\n      <th>tokens</th>\n      <th>labels</th>\n      <th>most_frequent_class</th>\n    </tr>\n  </thead>\n  <tbody>\n    <tr>\n      <th>0</th>\n      <td>7</td>\n      <td>Design</td>\n      <td>O</td>\n      <td>O</td>\n    </tr>\n    <tr>\n      <th>1</th>\n      <td>7</td>\n      <td>Thinking</td>\n      <td>O</td>\n      <td>O</td>\n    </tr>\n    <tr>\n      <th>2</th>\n      <td>7</td>\n      <td>for</td>\n      <td>O</td>\n      <td>O</td>\n    </tr>\n    <tr>\n      <th>3</th>\n      <td>7</td>\n      <td>innovation</td>\n      <td>O</td>\n      <td>O</td>\n    </tr>\n    <tr>\n      <th>4</th>\n      <td>7</td>\n      <td>reflexion</td>\n      <td>O</td>\n      <td>O</td>\n    </tr>\n    <tr>\n      <th>...</th>\n      <td>...</td>\n      <td>...</td>\n      <td>...</td>\n      <td>...</td>\n    </tr>\n    <tr>\n      <th>550795</th>\n      <td>8987</td>\n      <td>NaN</td>\n      <td>NaN</td>\n      <td>O</td>\n    </tr>\n    <tr>\n      <th>550796</th>\n      <td>8987</td>\n      <td>NaN</td>\n      <td>NaN</td>\n      <td>O</td>\n    </tr>\n    <tr>\n      <th>550797</th>\n      <td>8987</td>\n      <td>NaN</td>\n      <td>NaN</td>\n      <td>O</td>\n    </tr>\n    <tr>\n      <th>550798</th>\n      <td>8987</td>\n      <td>NaN</td>\n      <td>NaN</td>\n      <td>O</td>\n    </tr>\n    <tr>\n      <th>550799</th>\n      <td>8987</td>\n      <td>NaN</td>\n      <td>NaN</td>\n      <td>O</td>\n    </tr>\n  </tbody>\n</table>\n<p>550800 rows × 4 columns</p>\n</div>"
     },
     "execution_count": 183,
     "metadata": {},
     "output_type": "execute_result"
    }
   ],
   "source": [
    "df"
   ],
   "metadata": {
    "collapsed": false,
    "ExecuteTime": {
     "end_time": "2024-03-19T01:09:37.700447Z",
     "start_time": "2024-03-19T01:09:37.575865400Z"
    }
   },
   "id": "b2cadb938f515915",
   "execution_count": 183
  },
  {
   "cell_type": "code",
   "outputs": [],
   "source": [
    "# df.to_csv(\"submissions-mfc.csv\", index=True)"
   ],
   "metadata": {
    "collapsed": false,
    "ExecuteTime": {
     "end_time": "2024-03-19T01:09:37.701455300Z",
     "start_time": "2024-03-19T01:09:37.612383200Z"
    }
   },
   "id": "814b5dec8a7530d",
   "execution_count": 184
  },
  {
   "cell_type": "code",
   "outputs": [],
   "source": [
    "df['next_most_frequent_class'] = pd.Series(next_most_f)"
   ],
   "metadata": {
    "collapsed": false,
    "ExecuteTime": {
     "end_time": "2024-03-19T01:09:37.792538300Z",
     "start_time": "2024-03-19T01:09:37.623414400Z"
    }
   },
   "id": "a181da06998a1878",
   "execution_count": 185
  },
  {
   "cell_type": "code",
   "outputs": [],
   "source": [
    "# df.to_csv(\"submissions-nmfc.csv\", index=True)"
   ],
   "metadata": {
    "collapsed": false,
    "ExecuteTime": {
     "end_time": "2024-03-19T01:09:37.794537700Z",
     "start_time": "2024-03-19T01:09:37.687403600Z"
    }
   },
   "id": "da723e4f78626c6c",
   "execution_count": 186
  },
  {
   "cell_type": "markdown",
   "source": [
    "# Ground truth to_csv"
   ],
   "metadata": {
    "collapsed": false
   },
   "id": "d6b9344ceee58b6c"
  },
  {
   "cell_type": "code",
   "outputs": [],
   "source": [
    "# df = pd.DataFrame()\n",
    "# df['document'] = pd.Series(document)\n",
    "# df['tokens'] = pd.Series(tokens)\n",
    "# df['labels'] = pd.Series(labels)\n",
    "# df.to_csv(\"evaluations.csv\", index=True)"
   ],
   "metadata": {
    "collapsed": false,
    "ExecuteTime": {
     "end_time": "2024-03-19T01:09:37.881538900Z",
     "start_time": "2024-03-19T01:09:37.707003900Z"
    }
   },
   "id": "be56554cb82e290f",
   "execution_count": 187
  },
  {
   "cell_type": "markdown",
   "source": [
    "# Conf Matix"
   ],
   "metadata": {
    "collapsed": false
   },
   "id": "e1f17adba93b5640"
  },
  {
   "cell_type": "code",
   "outputs": [],
   "source": [
    "# accuracy, precision, recall, f1score = MFC.calculate_metrics()"
   ],
   "metadata": {
    "collapsed": false,
    "ExecuteTime": {
     "end_time": "2024-03-19T01:09:38.256085Z",
     "start_time": "2024-03-19T01:09:38.173087800Z"
    }
   },
   "id": "f9966c827ef4e40e",
   "execution_count": 188
  },
  {
   "cell_type": "code",
   "outputs": [
    {
     "ename": "TypeError",
     "evalue": "'<' not supported between instances of 'float' and 'str'",
     "output_type": "error",
     "traceback": [
      "\u001B[1;31m---------------------------------------------------------------------------\u001B[0m",
      "\u001B[1;31mTypeError\u001B[0m                                 Traceback (most recent call last)",
      "Cell \u001B[1;32mIn[189], line 4\u001B[0m\n\u001B[0;32m      2\u001B[0m \u001B[38;5;28;01mfrom\u001B[39;00m \u001B[38;5;21;01msklearn\u001B[39;00m\u001B[38;5;21;01m.\u001B[39;00m\u001B[38;5;21;01mmetrics\u001B[39;00m \u001B[38;5;28;01mimport\u001B[39;00m accuracy_score, precision_score, recall_score, f1_score\n\u001B[0;32m      3\u001B[0m \u001B[38;5;66;03m# mlb = MultiLabelBinarizer()\u001B[39;00m\n\u001B[1;32m----> 4\u001B[0m acc1 \u001B[38;5;241m=\u001B[39m \u001B[43maccuracy_score\u001B[49m\u001B[43m(\u001B[49m\u001B[43mdf\u001B[49m\u001B[43m[\u001B[49m\u001B[38;5;124;43m'\u001B[39;49m\u001B[38;5;124;43mlabels\u001B[39;49m\u001B[38;5;124;43m'\u001B[39;49m\u001B[43m]\u001B[49m\u001B[43m,\u001B[49m\u001B[43m \u001B[49m\u001B[43mdf\u001B[49m\u001B[43m[\u001B[49m\u001B[38;5;124;43m'\u001B[39;49m\u001B[38;5;124;43mmost_frequent_class\u001B[39;49m\u001B[38;5;124;43m'\u001B[39;49m\u001B[43m]\u001B[49m\u001B[43m)\u001B[49m\n\u001B[0;32m      5\u001B[0m acc1\n",
      "File \u001B[1;32m~\\.conda\\envs\\d2l\\lib\\site-packages\\sklearn\\utils\\_param_validation.py:213\u001B[0m, in \u001B[0;36mvalidate_params.<locals>.decorator.<locals>.wrapper\u001B[1;34m(*args, **kwargs)\u001B[0m\n\u001B[0;32m    207\u001B[0m \u001B[38;5;28;01mtry\u001B[39;00m:\n\u001B[0;32m    208\u001B[0m     \u001B[38;5;28;01mwith\u001B[39;00m config_context(\n\u001B[0;32m    209\u001B[0m         skip_parameter_validation\u001B[38;5;241m=\u001B[39m(\n\u001B[0;32m    210\u001B[0m             prefer_skip_nested_validation \u001B[38;5;129;01mor\u001B[39;00m global_skip_validation\n\u001B[0;32m    211\u001B[0m         )\n\u001B[0;32m    212\u001B[0m     ):\n\u001B[1;32m--> 213\u001B[0m         \u001B[38;5;28;01mreturn\u001B[39;00m func(\u001B[38;5;241m*\u001B[39margs, \u001B[38;5;241m*\u001B[39m\u001B[38;5;241m*\u001B[39mkwargs)\n\u001B[0;32m    214\u001B[0m \u001B[38;5;28;01mexcept\u001B[39;00m InvalidParameterError \u001B[38;5;28;01mas\u001B[39;00m e:\n\u001B[0;32m    215\u001B[0m     \u001B[38;5;66;03m# When the function is just a wrapper around an estimator, we allow\u001B[39;00m\n\u001B[0;32m    216\u001B[0m     \u001B[38;5;66;03m# the function to delegate validation to the estimator, but we replace\u001B[39;00m\n\u001B[0;32m    217\u001B[0m     \u001B[38;5;66;03m# the name of the estimator by the name of the function in the error\u001B[39;00m\n\u001B[0;32m    218\u001B[0m     \u001B[38;5;66;03m# message to avoid confusion.\u001B[39;00m\n\u001B[0;32m    219\u001B[0m     msg \u001B[38;5;241m=\u001B[39m re\u001B[38;5;241m.\u001B[39msub(\n\u001B[0;32m    220\u001B[0m         \u001B[38;5;124mr\u001B[39m\u001B[38;5;124m\"\u001B[39m\u001B[38;5;124mparameter of \u001B[39m\u001B[38;5;124m\\\u001B[39m\u001B[38;5;124mw+ must be\u001B[39m\u001B[38;5;124m\"\u001B[39m,\n\u001B[0;32m    221\u001B[0m         \u001B[38;5;124mf\u001B[39m\u001B[38;5;124m\"\u001B[39m\u001B[38;5;124mparameter of \u001B[39m\u001B[38;5;132;01m{\u001B[39;00mfunc\u001B[38;5;241m.\u001B[39m\u001B[38;5;18m__qualname__\u001B[39m\u001B[38;5;132;01m}\u001B[39;00m\u001B[38;5;124m must be\u001B[39m\u001B[38;5;124m\"\u001B[39m,\n\u001B[0;32m    222\u001B[0m         \u001B[38;5;28mstr\u001B[39m(e),\n\u001B[0;32m    223\u001B[0m     )\n",
      "File \u001B[1;32m~\\.conda\\envs\\d2l\\lib\\site-packages\\sklearn\\metrics\\_classification.py:213\u001B[0m, in \u001B[0;36maccuracy_score\u001B[1;34m(y_true, y_pred, normalize, sample_weight)\u001B[0m\n\u001B[0;32m    147\u001B[0m \u001B[38;5;250m\u001B[39m\u001B[38;5;124;03m\"\"\"Accuracy classification score.\u001B[39;00m\n\u001B[0;32m    148\u001B[0m \n\u001B[0;32m    149\u001B[0m \u001B[38;5;124;03mIn multilabel classification, this function computes subset accuracy:\u001B[39;00m\n\u001B[1;32m   (...)\u001B[0m\n\u001B[0;32m    209\u001B[0m \u001B[38;5;124;03m0.5\u001B[39;00m\n\u001B[0;32m    210\u001B[0m \u001B[38;5;124;03m\"\"\"\u001B[39;00m\n\u001B[0;32m    212\u001B[0m \u001B[38;5;66;03m# Compute accuracy for each possible representation\u001B[39;00m\n\u001B[1;32m--> 213\u001B[0m y_type, y_true, y_pred \u001B[38;5;241m=\u001B[39m \u001B[43m_check_targets\u001B[49m\u001B[43m(\u001B[49m\u001B[43my_true\u001B[49m\u001B[43m,\u001B[49m\u001B[43m \u001B[49m\u001B[43my_pred\u001B[49m\u001B[43m)\u001B[49m\n\u001B[0;32m    214\u001B[0m check_consistent_length(y_true, y_pred, sample_weight)\n\u001B[0;32m    215\u001B[0m \u001B[38;5;28;01mif\u001B[39;00m y_type\u001B[38;5;241m.\u001B[39mstartswith(\u001B[38;5;124m\"\u001B[39m\u001B[38;5;124mmultilabel\u001B[39m\u001B[38;5;124m\"\u001B[39m):\n",
      "File \u001B[1;32m~\\.conda\\envs\\d2l\\lib\\site-packages\\sklearn\\metrics\\_classification.py:86\u001B[0m, in \u001B[0;36m_check_targets\u001B[1;34m(y_true, y_pred)\u001B[0m\n\u001B[0;32m     59\u001B[0m \u001B[38;5;250m\u001B[39m\u001B[38;5;124;03m\"\"\"Check that y_true and y_pred belong to the same classification task.\u001B[39;00m\n\u001B[0;32m     60\u001B[0m \n\u001B[0;32m     61\u001B[0m \u001B[38;5;124;03mThis converts multiclass or binary types to a common shape, and raises a\u001B[39;00m\n\u001B[1;32m   (...)\u001B[0m\n\u001B[0;32m     83\u001B[0m \u001B[38;5;124;03my_pred : array or indicator matrix\u001B[39;00m\n\u001B[0;32m     84\u001B[0m \u001B[38;5;124;03m\"\"\"\u001B[39;00m\n\u001B[0;32m     85\u001B[0m check_consistent_length(y_true, y_pred)\n\u001B[1;32m---> 86\u001B[0m type_true \u001B[38;5;241m=\u001B[39m \u001B[43mtype_of_target\u001B[49m\u001B[43m(\u001B[49m\u001B[43my_true\u001B[49m\u001B[43m,\u001B[49m\u001B[43m \u001B[49m\u001B[43minput_name\u001B[49m\u001B[38;5;241;43m=\u001B[39;49m\u001B[38;5;124;43m\"\u001B[39;49m\u001B[38;5;124;43my_true\u001B[39;49m\u001B[38;5;124;43m\"\u001B[39;49m\u001B[43m)\u001B[49m\n\u001B[0;32m     87\u001B[0m type_pred \u001B[38;5;241m=\u001B[39m type_of_target(y_pred, input_name\u001B[38;5;241m=\u001B[39m\u001B[38;5;124m\"\u001B[39m\u001B[38;5;124my_pred\u001B[39m\u001B[38;5;124m\"\u001B[39m)\n\u001B[0;32m     89\u001B[0m y_type \u001B[38;5;241m=\u001B[39m {type_true, type_pred}\n",
      "File \u001B[1;32m~\\.conda\\envs\\d2l\\lib\\site-packages\\sklearn\\utils\\multiclass.py:395\u001B[0m, in \u001B[0;36mtype_of_target\u001B[1;34m(y, input_name)\u001B[0m\n\u001B[0;32m    393\u001B[0m \u001B[38;5;28;01mif\u001B[39;00m issparse(first_row):\n\u001B[0;32m    394\u001B[0m     first_row \u001B[38;5;241m=\u001B[39m first_row\u001B[38;5;241m.\u001B[39mdata\n\u001B[1;32m--> 395\u001B[0m \u001B[38;5;28;01mif\u001B[39;00m \u001B[43mxp\u001B[49m\u001B[38;5;241;43m.\u001B[39;49m\u001B[43munique_values\u001B[49m\u001B[43m(\u001B[49m\u001B[43my\u001B[49m\u001B[43m)\u001B[49m\u001B[38;5;241m.\u001B[39mshape[\u001B[38;5;241m0\u001B[39m] \u001B[38;5;241m>\u001B[39m \u001B[38;5;241m2\u001B[39m \u001B[38;5;129;01mor\u001B[39;00m (y\u001B[38;5;241m.\u001B[39mndim \u001B[38;5;241m==\u001B[39m \u001B[38;5;241m2\u001B[39m \u001B[38;5;129;01mand\u001B[39;00m \u001B[38;5;28mlen\u001B[39m(first_row) \u001B[38;5;241m>\u001B[39m \u001B[38;5;241m1\u001B[39m):\n\u001B[0;32m    396\u001B[0m     \u001B[38;5;66;03m# [1, 2, 3] or [[1., 2., 3]] or [[1, 2]]\u001B[39;00m\n\u001B[0;32m    397\u001B[0m     \u001B[38;5;28;01mreturn\u001B[39;00m \u001B[38;5;124m\"\u001B[39m\u001B[38;5;124mmulticlass\u001B[39m\u001B[38;5;124m\"\u001B[39m \u001B[38;5;241m+\u001B[39m suffix\n\u001B[0;32m    398\u001B[0m \u001B[38;5;28;01melse\u001B[39;00m:\n",
      "File \u001B[1;32m~\\.conda\\envs\\d2l\\lib\\site-packages\\sklearn\\utils\\_array_api.py:307\u001B[0m, in \u001B[0;36m_NumPyAPIWrapper.unique_values\u001B[1;34m(self, x)\u001B[0m\n\u001B[0;32m    306\u001B[0m \u001B[38;5;28;01mdef\u001B[39;00m \u001B[38;5;21munique_values\u001B[39m(\u001B[38;5;28mself\u001B[39m, x):\n\u001B[1;32m--> 307\u001B[0m     \u001B[38;5;28;01mreturn\u001B[39;00m \u001B[43mnumpy\u001B[49m\u001B[38;5;241;43m.\u001B[39;49m\u001B[43munique\u001B[49m\u001B[43m(\u001B[49m\u001B[43mx\u001B[49m\u001B[43m)\u001B[49m\n",
      "File \u001B[1;32m<__array_function__ internals>:180\u001B[0m, in \u001B[0;36munique\u001B[1;34m(*args, **kwargs)\u001B[0m\n",
      "File \u001B[1;32m~\\.conda\\envs\\d2l\\lib\\site-packages\\numpy\\lib\\arraysetops.py:274\u001B[0m, in \u001B[0;36munique\u001B[1;34m(ar, return_index, return_inverse, return_counts, axis, equal_nan)\u001B[0m\n\u001B[0;32m    272\u001B[0m ar \u001B[38;5;241m=\u001B[39m np\u001B[38;5;241m.\u001B[39masanyarray(ar)\n\u001B[0;32m    273\u001B[0m \u001B[38;5;28;01mif\u001B[39;00m axis \u001B[38;5;129;01mis\u001B[39;00m \u001B[38;5;28;01mNone\u001B[39;00m:\n\u001B[1;32m--> 274\u001B[0m     ret \u001B[38;5;241m=\u001B[39m \u001B[43m_unique1d\u001B[49m\u001B[43m(\u001B[49m\u001B[43mar\u001B[49m\u001B[43m,\u001B[49m\u001B[43m \u001B[49m\u001B[43mreturn_index\u001B[49m\u001B[43m,\u001B[49m\u001B[43m \u001B[49m\u001B[43mreturn_inverse\u001B[49m\u001B[43m,\u001B[49m\u001B[43m \u001B[49m\u001B[43mreturn_counts\u001B[49m\u001B[43m,\u001B[49m\u001B[43m \u001B[49m\n\u001B[0;32m    275\u001B[0m \u001B[43m                    \u001B[49m\u001B[43mequal_nan\u001B[49m\u001B[38;5;241;43m=\u001B[39;49m\u001B[43mequal_nan\u001B[49m\u001B[43m)\u001B[49m\n\u001B[0;32m    276\u001B[0m     \u001B[38;5;28;01mreturn\u001B[39;00m _unpack_tuple(ret)\n\u001B[0;32m    278\u001B[0m \u001B[38;5;66;03m# axis was specified and not None\u001B[39;00m\n",
      "File \u001B[1;32m~\\.conda\\envs\\d2l\\lib\\site-packages\\numpy\\lib\\arraysetops.py:336\u001B[0m, in \u001B[0;36m_unique1d\u001B[1;34m(ar, return_index, return_inverse, return_counts, equal_nan)\u001B[0m\n\u001B[0;32m    334\u001B[0m     aux \u001B[38;5;241m=\u001B[39m ar[perm]\n\u001B[0;32m    335\u001B[0m \u001B[38;5;28;01melse\u001B[39;00m:\n\u001B[1;32m--> 336\u001B[0m     \u001B[43mar\u001B[49m\u001B[38;5;241;43m.\u001B[39;49m\u001B[43msort\u001B[49m\u001B[43m(\u001B[49m\u001B[43m)\u001B[49m\n\u001B[0;32m    337\u001B[0m     aux \u001B[38;5;241m=\u001B[39m ar\n\u001B[0;32m    338\u001B[0m mask \u001B[38;5;241m=\u001B[39m np\u001B[38;5;241m.\u001B[39mempty(aux\u001B[38;5;241m.\u001B[39mshape, dtype\u001B[38;5;241m=\u001B[39mnp\u001B[38;5;241m.\u001B[39mbool_)\n",
      "\u001B[1;31mTypeError\u001B[0m: '<' not supported between instances of 'float' and 'str'"
     ]
    }
   ],
   "source": [
    "# from sklearn.preprocessing import MultiLabelBinarizer\n",
    "from sklearn.metrics import accuracy_score, precision_score, recall_score, f1_score\n",
    "# mlb = MultiLabelBinarizer()\n",
    "acc1 = accuracy_score(df['labels'], df['most_frequent_class'])\n",
    "acc1"
   ],
   "metadata": {
    "collapsed": false,
    "ExecuteTime": {
     "end_time": "2024-03-19T01:09:39.954073100Z",
     "start_time": "2024-03-19T01:09:39.674883900Z"
    }
   },
   "id": "3322863573efea7a",
   "execution_count": 189
  },
  {
   "cell_type": "code",
   "outputs": [],
   "source": [],
   "metadata": {
    "collapsed": false
   },
   "id": "a697d390eff0b69b"
  }
 ],
 "metadata": {
  "kernelspec": {
   "display_name": "Python 3 (ipykernel)",
   "language": "python",
   "name": "python3"
  },
  "language_info": {
   "codemirror_mode": {
    "name": "ipython",
    "version": 3
   },
   "file_extension": ".py",
   "mimetype": "text/x-python",
   "name": "python",
   "nbconvert_exporter": "python",
   "pygments_lexer": "ipython3",
   "version": "3.9.18"
  }
 },
 "nbformat": 4,
 "nbformat_minor": 5
}
